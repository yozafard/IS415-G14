{
 "cells": [
  {
   "cell_type": "code",
   "execution_count": 1,
   "metadata": {},
   "outputs": [],
   "source": [
    "from selenium import webdriver\n",
    "from selenium.webdriver.chrome.options import Options\n",
    "from selenium.webdriver.common.by import By\n",
    "from selenium.webdriver.support.ui import WebDriverWait\n",
    "from selenium.webdriver.support import expected_conditions as EC\n",
    "from selenium.webdriver.common.keys import Keys\n",
    "from selenium.common.exceptions import (\n",
    "    NoSuchElementException,\n",
    "    TimeoutException,\n",
    "    JavascriptException,\n",
    "    WebDriverException,\n",
    "    StaleElementReferenceException,\n",
    ")\n",
    "from fake_useragent import UserAgent\n",
    "import requests\n",
    "from bs4 import BeautifulSoup\n",
    "import logging\n",
    "import random\n",
    "import pandas as pd\n",
    "import time\n",
    "from tqdm.notebook import tqdm"
   ]
  },
  {
   "cell_type": "code",
   "execution_count": 2,
   "metadata": {},
   "outputs": [],
   "source": [
    "districts = [\n",
    "    # \"jakarta\",\n",
    "    # \"jakarta-barat\",\n",
    "    # \"jakarta-pusat\",\n",
    "    # \"jakarta-selatan\",\n",
    "    \"jakarta-timur\",\n",
    "    # \"jakarta-utara\",\n",
    "]\n",
    "\n",
    "genders = [\n",
    "    \"Semua\",\n",
    "    \"Khusus Putra\",\n",
    "    \"Khusus Putri\",\n",
    "    \"Putra dan Campur\",\n",
    "    \"Putri dan Campur\",\n",
    "]\n",
    "\n",
    "price_starts = range(0, 15000000, 100000)\n",
    "\n",
    "var = [\n",
    "    \"_id\",\n",
    "    \"price_monthly\",\n",
    "    \"latitude\",\n",
    "    \"longitude\",\n",
    "    \"gender\",\n",
    "    \"area_city_keyword\",\n",
    "    \"area_subdistrict\",\n",
    "    \"status\",\n",
    "    \"size\",\n",
    "    \"fac_room\",\n",
    "    \"fac_share\",\n",
    "    \"fac_bath\",\n",
    "    \"fac_near\",\n",
    "    \"fac_park\",\n",
    "    \"kos_rule\",\n",
    "    \"fac_price\",\n",
    "    \"owner_user_id\",\n",
    "    \"building_year\",\n",
    "    \"is_singgahsini\",\n",
    "    \"is_apik\",\n",
    "    \"is_elite\",\n",
    "    \"number_success_owner_trx\",\n",
    "    \"number_success_kos_trx\",\n",
    "]"
   ]
  },
  {
   "cell_type": "code",
   "execution_count": 3,
   "metadata": {},
   "outputs": [],
   "source": [
    "# Function to get a random user agent\n",
    "def get_random_user_agent():\n",
    "    ua = UserAgent(min_version=120.0)\n",
    "    return ua.random\n",
    "\n",
    "def get_free_proxies():\n",
    "    countries = ['SG', 'VN', 'TH', 'ID']\n",
    "    proxies = []\n",
    "    url = 'https://free-proxy-list.net/'\n",
    "    response = requests.get(url)\n",
    "    soup = BeautifulSoup(response.content, 'html.parser')\n",
    "    table = soup.find('table')\n",
    "    for row in table.tbody.find_all('tr'):\n",
    "        columns = row.find_all('td')\n",
    "        if columns[2].text in countries:\n",
    "            ip = columns[0].text\n",
    "            port = columns[1].text\n",
    "            proxies.append(f'{ip}:{port}')\n",
    "    return proxies\n",
    "\n",
    "# Function to get a random proxy\n",
    "def get_random_proxy(proxies):\n",
    "    return proxies[random.randint(0, len(proxies) - 1)]\n",
    "\n",
    "def setup_driver(proxies):\n",
    "    user_agent = get_random_user_agent()\n",
    "    proxy = get_random_proxy(proxies)\n",
    "    \n",
    "    chrome_options = Options()\n",
    "    chrome_options.add_argument(\"--headless=new\")\n",
    "    chrome_options.add_argument(\"--window-size=1280,720\")\n",
    "    chrome_options.add_argument(f\"user-agent={user_agent}\")\n",
    "    # chrome_options.add_argument(f\"--proxy-server=http://{proxy}\")\n",
    "    driver = webdriver.Chrome(options=chrome_options)\n",
    "    return driver, proxy"
   ]
  },
  {
   "cell_type": "code",
   "execution_count": 4,
   "metadata": {},
   "outputs": [
    {
     "data": {
      "application/vnd.jupyter.widget-view+json": {
       "model_id": "a22f8b7c5f304e41aa83afff58781904",
       "version_major": 2,
       "version_minor": 0
      },
      "text/plain": [
       "  0%|          | 0/1 [00:00<?, ?it/s]"
      ]
     },
     "metadata": {},
     "output_type": "display_data"
    },
    {
     "data": {
      "application/vnd.jupyter.widget-view+json": {
       "model_id": "a0f7da4e283442daa16a749eebb2e5de",
       "version_major": 2,
       "version_minor": 0
      },
      "text/plain": [
       "  0%|          | 0/5 [00:00<?, ?it/s]"
      ]
     },
     "metadata": {},
     "output_type": "display_data"
    },
    {
     "data": {
      "application/vnd.jupyter.widget-view+json": {
       "model_id": "cde5df9fef174ba49fdb2775f954d2cf",
       "version_major": 2,
       "version_minor": 0
      },
      "text/plain": [
       "  0%|          | 0/150 [00:00<?, ?it/s]"
      ]
     },
     "metadata": {},
     "output_type": "display_data"
    },
    {
     "data": {
      "application/vnd.jupyter.widget-view+json": {
       "model_id": "5f5692d25d804364a8de06687c79ce9d",
       "version_major": 2,
       "version_minor": 0
      },
      "text/plain": [
       "  0%|          | 0/150 [00:00<?, ?it/s]"
      ]
     },
     "metadata": {},
     "output_type": "display_data"
    },
    {
     "data": {
      "application/vnd.jupyter.widget-view+json": {
       "model_id": "4a8ff362df5b4bd2a7be7f4e1f32b0f5",
       "version_major": 2,
       "version_minor": 0
      },
      "text/plain": [
       "  0%|          | 0/150 [00:00<?, ?it/s]"
      ]
     },
     "metadata": {},
     "output_type": "display_data"
    },
    {
     "data": {
      "application/vnd.jupyter.widget-view+json": {
       "model_id": "7c80a2fa833949e98761e6b6c7223246",
       "version_major": 2,
       "version_minor": 0
      },
      "text/plain": [
       "  0%|          | 0/150 [00:00<?, ?it/s]"
      ]
     },
     "metadata": {},
     "output_type": "display_data"
    },
    {
     "data": {
      "application/vnd.jupyter.widget-view+json": {
       "model_id": "6a6c49f050da486597c1746abc9963e6",
       "version_major": 2,
       "version_minor": 0
      },
      "text/plain": [
       "  0%|          | 0/150 [00:00<?, ?it/s]"
      ]
     },
     "metadata": {},
     "output_type": "display_data"
    }
   ],
   "source": [
    "url = \"https://mamikos.com/booking/\"\n",
    "proxies = get_free_proxies()\n",
    "results = []\n",
    "\n",
    "# Set up logging\n",
    "logging.basicConfig(filename='error.log', level=logging.ERROR)\n",
    "\n",
    "try:\n",
    "    for district in tqdm(districts):\n",
    "        for gender in tqdm(genders):\n",
    "            while True:\n",
    "                try:\n",
    "                    driver, proxy = setup_driver(proxies)\n",
    "                    driver.get(url + district)\n",
    "                    # Wait until the filter appears\n",
    "                    WebDriverWait(driver, 4).until(\n",
    "                        EC.presence_of_element_located(\n",
    "                            (By.CSS_SELECTOR, \"div[data-v-424a8076]\")\n",
    "                        )\n",
    "                    )\n",
    "                    break\n",
    "                except (WebDriverException, TimeoutException) as e:\n",
    "                    logging.error(f'Proxy Failed')\n",
    "                    driver.quit()\n",
    "                    proxies.remove(proxy)\n",
    "                    continue\n",
    "            \n",
    "            for price_start in tqdm(price_starts):                \n",
    "                try:\n",
    "                    # Fill the gender type dropdown filter\n",
    "                    filterType = driver.find_element(By.ID, \"filterType\")\n",
    "                    filterType.send_keys(gender)\n",
    "\n",
    "                    # Fill the price filter\n",
    "                    filterPriceMin = driver.find_element(By.ID, \"filterPriceMin\")\n",
    "                    filterPriceMin.send_keys(Keys.CONTROL + \"a\")\n",
    "                    filterPriceMin.send_keys(price_start)\n",
    "                    filterPriceMax = driver.find_element(By.ID, \"filterPriceMax\")\n",
    "                    filterPriceMax.send_keys(Keys.CONTROL + \"a\")\n",
    "                    filterPriceMax.send_keys(price_start + 100000)\n",
    "\n",
    "                    # Click the submit button\n",
    "                    submit = driver.find_element(\n",
    "                        By.CSS_SELECTOR, 'button[type=\"submit\"]'\n",
    "                    )\n",
    "                    submit.click()\n",
    "\n",
    "                    while True:\n",
    "                        # Iterate through the listing cards\n",
    "                        for i in range(20):\n",
    "                            # Find the listing card again to avoid stale element reference\n",
    "                            try:\n",
    "                                # Wait until the listing cards appear\n",
    "                                WebDriverWait(driver, 4).until(\n",
    "                                    EC.presence_of_element_located(\n",
    "                                        (By.CSS_SELECTOR, \"div.listing-room-card\")\n",
    "                                    )\n",
    "                                )\n",
    "                                room_card = driver.find_element(By.CSS_SELECTOR, \"div.listing-room-card\") \n",
    "                                card = room_card.find_elements(By.CSS_SELECTOR, \"div.kost-rc__inner\")[i]\n",
    "                                driver.execute_script(\"arguments[0].click();\", card)\n",
    "                            except Exception as e:\n",
    "                                if e.__class__ == StaleElementReferenceException:\n",
    "                                    logging.error(f'Line 64 - Stale Element')\n",
    "                                elif e.__class__ == IndexError:\n",
    "                                    logging.error(f'Line 66 - Index Error')\n",
    "                                elif e.__class__ == TimeoutException:\n",
    "                                    logging.error(f'Line 68 - Timeout')\n",
    "                                else:\n",
    "                                    logging.error(f'Line 70 - Other Error')\n",
    "                                break\n",
    "\n",
    "                            # Switch to the main page to avoid StaleElementReferenceException\n",
    "                            driver.switch_to.window(driver.window_handles[0])\n",
    "\n",
    "                            # Sleep to avoid too many requests\n",
    "                            time.sleep(0.95 + random.random())\n",
    "                            \n",
    "                            # Switch to the detail page\n",
    "                            driver.switch_to.window(driver.window_handles[1])\n",
    "                            \n",
    "                            # Execute the query to get the detail object\n",
    "                            detail = {}\n",
    "                            while not detail:\n",
    "                                try:\n",
    "                                    detail = driver.execute_script(\"return detail\")\n",
    "                                except JavascriptException as e:\n",
    "                                    logging.error(f'Line 91 - Too Many Requests')\n",
    "                                    time.sleep(30)\n",
    "                                    driver.refresh()\n",
    "                            \n",
    "                            # Store the selected elements\n",
    "                            detail = {key: detail[key] for key in var if key in detail}\n",
    "                            detail[\"url\"] = driver.current_url\n",
    "                            results.append(detail)\n",
    "\n",
    "                            # Close the page\n",
    "                            driver.close()\n",
    "\n",
    "                            # Switch back to the listing page\n",
    "                            driver.switch_to.window(driver.window_handles[0])\n",
    "                        \n",
    "                        try:\n",
    "                            # Find the pagination bar\n",
    "                            pagination = driver.find_element(By.CSS_SELECTOR, \"ul.pagination\")\n",
    "\n",
    "                            # Wait until the bar is loaded\n",
    "                            WebDriverWait(driver, 4).until(\n",
    "                                lambda d: pagination.find_element(By.CSS_SELECTOR, \"li.active\")\n",
    "                            )\n",
    "\n",
    "                            active_page = pagination.find_element(By.CSS_SELECTOR, \"li.active\").text\n",
    "                            second_last_page = pagination.find_element(By.CSS_SELECTOR, \"li:nth-last-child(2)\").text\n",
    "\n",
    "                            if active_page != second_last_page:\n",
    "                                next_button = pagination.find_element(By.CSS_SELECTOR, \"li:last-child a\")\n",
    "                                next_button.click()\n",
    "                            else:\n",
    "                                break\n",
    "                        except NoSuchElementException as e:\n",
    "                            logging.error(f'Line 124 - Pagination Failed')\n",
    "                        except TimeoutException as e:\n",
    "                            logging.error(f'Line 126 - Timeout')\n",
    "                            break\n",
    "                except TimeoutException as e:\n",
    "                    logging.error(f'Line 129 - Timeout')\n",
    "                    continue\n",
    "            \n",
    "            # Change to a new proxy\n",
    "            driver.quit()\n",
    "finally:\n",
    "    driver.quit()\n",
    "    result = pd.DataFrame(results)"
   ]
  },
  {
   "cell_type": "code",
   "execution_count": 5,
   "metadata": {},
   "outputs": [
    {
     "data": {
      "text/plain": [
       "3605"
      ]
     },
     "execution_count": 5,
     "metadata": {},
     "output_type": "execute_result"
    }
   ],
   "source": [
    "mamikos_raw = pd.DataFrame(results)\n",
    "mamikos = mamikos_raw.drop_duplicates(subset=[\"_id\"])\n",
    "len(mamikos)"
   ]
  },
  {
   "cell_type": "code",
   "execution_count": 6,
   "metadata": {},
   "outputs": [],
   "source": [
    "mamikos.to_csv(\"mamikos_jakarta-timur.csv\", index=\"_id\")"
   ]
  },
  {
   "cell_type": "code",
   "execution_count": 7,
   "metadata": {},
   "outputs": [],
   "source": [
    "jakarta_41_150 = pd.read_csv(\"mamikos_41-150.csv\")\n",
    "jakarta = pd.read_csv(\"mamikos_jakarta.csv\")\n",
    "jakarta_semua_putra_putri = pd.read_csv(\"mamikos_jakarta_semua_putra_putri.csv\")\n",
    "pusat = pd.read_csv(\"mamikos_jakarta-pusat.csv\")\n",
    "barat_semua = pd.read_csv(\"mamikos_jakarta-barat_semua.csv\")\n",
    "barat_bukan_semua = pd.read_csv(\"mamikos_jakarta-barat_bukan-semua.csv\")\n",
    "selatan = pd.read_csv(\"mamikos_jakarta-selatan.csv\")\n",
    "timur = pd.read_csv(\"mamikos_jakarta-timur.csv\")\n",
    "utara = pd.read_csv(\"mamikos_jakarta-utara.csv\")"
   ]
  },
  {
   "cell_type": "code",
   "execution_count": 21,
   "metadata": {},
   "outputs": [],
   "source": [
    "mamikos = pd.concat([jakarta_41_150, jakarta, jakarta_semua_putra_putri, pusat, barat_semua, barat_bukan_semua, selatan, timur, utara])\n",
    "mamikos = mamikos.drop_duplicates(subset=[\"_id\"]).drop(columns=[\"Unnamed: 0\"])"
   ]
  }
 ],
 "metadata": {
  "kernelspec": {
   "display_name": "Python 3",
   "language": "python",
   "name": "python3"
  },
  "language_info": {
   "codemirror_mode": {
    "name": "ipython",
    "version": 3
   },
   "file_extension": ".py",
   "mimetype": "text/x-python",
   "name": "python",
   "nbconvert_exporter": "python",
   "pygments_lexer": "ipython3",
   "version": "3.12.1"
  }
 },
 "nbformat": 4,
 "nbformat_minor": 2
}
