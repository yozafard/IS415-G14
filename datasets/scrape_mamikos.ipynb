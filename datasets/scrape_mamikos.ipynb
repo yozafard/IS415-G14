{
 "cells": [
  {
   "cell_type": "code",
   "execution_count": 17,
   "metadata": {},
   "outputs": [],
   "source": [
    "from selenium import webdriver\n",
    "from selenium.webdriver.chrome.options import Options\n",
    "from selenium.webdriver.common.by import By\n",
    "from selenium.webdriver.support.ui import WebDriverWait\n",
    "from selenium.webdriver.support import expected_conditions as EC\n",
    "from selenium.webdriver.common.keys import Keys\n",
    "from selenium.common.exceptions import (\n",
    "    NoSuchElementException,\n",
    "    TimeoutException,\n",
    "    JavascriptException,\n",
    ")\n",
    "import pandas as pd\n",
    "import time"
   ]
  },
  {
   "cell_type": "code",
   "execution_count": 18,
   "metadata": {},
   "outputs": [],
   "source": [
    "districts = [\n",
    "    \"jakarta\",\n",
    "    \"jakarta-barat\",\n",
    "    \"jakarta-pusat\",\n",
    "    \"jakarta-selatan\",\n",
    "    \"jakarta-timur\",\n",
    "    \"jakarta-utara\",\n",
    "]\n",
    "genders = [\n",
    "    \"Semua\",\n",
    "    \"Khusus Putra\",\n",
    "    \"Khusus Putri\",\n",
    "    \"Putra dan Campur\",\n",
    "    \"Putri dan Campur\",\n",
    "]\n",
    "price_starts = range(0, 15000000, 100000)"
   ]
  },
  {
   "cell_type": "code",
   "execution_count": 19,
   "metadata": {},
   "outputs": [],
   "source": [
    "var = [\n",
    "    \"_id\",\n",
    "    \"price_monthly\",\n",
    "    \"latitude\",\n",
    "    \"longitude\",\n",
    "    \"gender\",\n",
    "    \"area_city_keyword\",\n",
    "    \"area_subdistrict\",\n",
    "    \"status\",\n",
    "    \"size\",\n",
    "    \"fac_room\",\n",
    "    \"fac_share\",\n",
    "    \"fac_bath\",\n",
    "    \"fac_near\",\n",
    "    \"fac_park\",\n",
    "    \"kos_rule\",\n",
    "    \"fac_price\",\n",
    "    \"owner_user_id\",\n",
    "    \"building_year\",\n",
    "    \"is_singgahsini\",\n",
    "    \"is_apik\",\n",
    "    \"is_elite\",\n",
    "    \"number_success_owner_trx\",\n",
    "    \"number_success_kos_trx\",\n",
    "]"
   ]
  },
  {
   "cell_type": "code",
   "execution_count": null,
   "metadata": {},
   "outputs": [],
   "source": [
    "# Set up Selenium webdriver\n",
    "chrome_options = Options()\n",
    "chrome_options.add_argument(\"--window-size=1024,768\")\n",
    "driver = webdriver.Chrome(options=chrome_options)\n",
    "url = \"https://mamikos.com/booking/\"\n",
    "\n",
    "results = []\n",
    "\n",
    "try:\n",
    "    for district in districts:\n",
    "        driver.get(url + district)\n",
    "        for gender in genders:\n",
    "            for price_start in price_starts:\n",
    "                try:\n",
    "                    # Wait until the filter appears\n",
    "                    WebDriverWait(driver, 2).until(\n",
    "                        EC.presence_of_element_located(\n",
    "                            (By.CSS_SELECTOR, \"div[data-v-424a8076]\")\n",
    "                        )\n",
    "                    )\n",
    "\n",
    "                    # Fill the gender type dropdown filter\n",
    "                    filterType = driver.find_element(By.ID, \"filterType\")\n",
    "                    filterType.send_keys(gender)\n",
    "\n",
    "                    # Fill the price filter\n",
    "                    filterPriceMin = driver.find_element(By.ID, \"filterPriceMin\")\n",
    "                    filterPriceMin.send_keys(Keys.CONTROL + \"a\")\n",
    "                    filterPriceMin.send_keys(price_start)\n",
    "                    filterPriceMax = driver.find_element(By.ID, \"filterPriceMax\")\n",
    "                    filterPriceMax.send_keys(Keys.CONTROL + \"a\")\n",
    "                    filterPriceMax.send_keys(price_start + 100000)\n",
    "\n",
    "                    # Click the submit button\n",
    "                    submit = driver.find_element(\n",
    "                        By.CSS_SELECTOR, 'button[type=\"submit\"]'\n",
    "                    )\n",
    "                    submit.click()\n",
    "\n",
    "                    while True:\n",
    "                        # Wait until the listing cards appear\n",
    "                        WebDriverWait(driver, 2).until(\n",
    "                            EC.presence_of_element_located(\n",
    "                                (By.CSS_SELECTOR, \"div[data-v-c6752eba]\")\n",
    "                            )\n",
    "                        )\n",
    "\n",
    "                        # Collect all divs with class 'kost-rc__inner'\n",
    "                        divs = driver.find_elements(\n",
    "                            By.CSS_SELECTOR, \"div.kost-rc__inner\"\n",
    "                        )\n",
    "\n",
    "                        too_many_requests = False\n",
    "                        # Click on the first div, then parse the content of the newly opened page\n",
    "                        for div in divs:\n",
    "                            time.sleep(0.1)\n",
    "                            div.click()\n",
    "\n",
    "                        for div in divs:\n",
    "                            # Switch to the listing detail page\n",
    "                            driver.switch_to.window(driver.window_handles[1])\n",
    "\n",
    "                            # Execute the query to get the detail\n",
    "                            detail = {}\n",
    "                            while not detail:\n",
    "                                try:\n",
    "                                    if too_many_requests:\n",
    "                                        driver.refresh()\n",
    "                                    detail = driver.execute_script(\"return detail\")\n",
    "                                except JavascriptException:\n",
    "                                    too_many_requests = True\n",
    "                                    time.sleep(30)\n",
    "                                    continue\n",
    "                            detail = {key: detail[key] for key in var if key in detail}\n",
    "                            detail[\"url\"] = driver.current_url\n",
    "                            results.append(detail)\n",
    "\n",
    "                            # Close the page\n",
    "                            driver.close()\n",
    "\n",
    "                        # Switch back to the listing page\n",
    "                        driver.switch_to.window(driver.window_handles[0])\n",
    "\n",
    "                        # Click the next page button if it exists\n",
    "                        next_page = driver.find_element(\n",
    "                            By.XPATH, '//a[text()=\">\"][@tabindex=\"0\"]'\n",
    "                        )\n",
    "                        next_page.click()\n",
    "                except (TimeoutException, NoSuchElementException):\n",
    "                    continue\n",
    "finally:\n",
    "    driver.quit()\n",
    "    result = pd.DataFrame(results)"
   ]
  },
  {
   "cell_type": "code",
   "execution_count": 25,
   "metadata": {},
   "outputs": [
    {
     "data": {
      "text/plain": [
       "160"
      ]
     },
     "execution_count": 25,
     "metadata": {},
     "output_type": "execute_result"
    }
   ],
   "source": [
    "mamikos = pd.DataFrame(results)\n",
    "len(mamikos)"
   ]
  },
  {
   "cell_type": "code",
   "execution_count": null,
   "metadata": {},
   "outputs": [],
   "source": [
    "mamikos"
   ]
  },
  {
   "cell_type": "code",
   "execution_count": 22,
   "metadata": {},
   "outputs": [],
   "source": [
    "pd.DataFrame(results).to_csv(\"mamikos_sample.csv\", index=\"_id\")"
   ]
  }
 ],
 "metadata": {
  "kernelspec": {
   "display_name": "Python 3",
   "language": "python",
   "name": "python3"
  },
  "language_info": {
   "codemirror_mode": {
    "name": "ipython",
    "version": 3
   },
   "file_extension": ".py",
   "mimetype": "text/x-python",
   "name": "python",
   "nbconvert_exporter": "python",
   "pygments_lexer": "ipython3",
   "version": "3.12.1"
  }
 },
 "nbformat": 4,
 "nbformat_minor": 2
}
